{
 "cells": [
  {
   "cell_type": "code",
   "execution_count": 65,
   "id": "f2159364-98d4-414d-90bb-6a1a418a1800",
   "metadata": {},
   "outputs": [],
   "source": [
    "import sqlite3\n",
    "\n",
    "connection= sqlite3.connect('books.db')\n",
    "cursor = connection.cursor()"
   ]
  },
  {
   "cell_type": "code",
   "execution_count": 67,
   "id": "fc6b20ea-4b02-4f6a-81bb-36601ea5c99f",
   "metadata": {},
   "outputs": [
    {
     "data": {
      "text/plain": [
       "<sqlite3.Cursor at 0x238a2a77ec0>"
      ]
     },
     "execution_count": 67,
     "metadata": {},
     "output_type": "execute_result"
    }
   ],
   "source": [
    "cursor.execute('SELECT * FROM titles')"
   ]
  },
  {
   "cell_type": "code",
   "execution_count": 69,
   "id": "5b872820-0759-4882-b837-ae2fc4b45bb6",
   "metadata": {},
   "outputs": [],
   "source": [
    "columns = [description[0] for description in cursor.description]\n",
    "rows = cursor.fetchall()"
   ]
  },
  {
   "cell_type": "code",
   "execution_count": 71,
   "id": "82805806-8338-429e-bafe-0280ca47646c",
   "metadata": {},
   "outputs": [
    {
     "name": "stdout",
     "output_type": "stream",
     "text": [
      "isbn | title | edition | copyright\n",
      "--------------------------------------------------\n",
      "0135404673 | Intro to Python for CS and DS | 1 | 2020\n",
      "0132151006 | Internet & WWW How to Program | 5 | 2012\n",
      "0134743350 | Java How to Program | 11 | 2018\n",
      "0133976890 | C How to Program | 8 | 2016\n",
      "0133406954 | Visual Basic 2012 How to Program | 6 | 2014\n",
      "0134601548 | Visual C# How to Program | 6 | 2017\n",
      "0136151574 | Visual C++ How to Program | 2 | 2008\n",
      "0134448235 | C++ How to Program | 10 | 2017\n",
      "0134444302 | Android How to Program | 3 | 2017\n",
      "0134289366 | Android 6 for Programmers | 3 | 2016\n"
     ]
    }
   ],
   "source": [
    "print(f\"{' | '.join(columns)}\")  # Print the column names\n",
    "print('-' * 50)  # Print a separator line\n",
    "for row in rows:\n",
    "    print(f\"{' | '.join(map(str, row))}\")"
   ]
  },
  {
   "cell_type": "code",
   "execution_count": null,
   "id": "f843eb6e-be6a-4fcd-b80e-92afa806c3a9",
   "metadata": {},
   "outputs": [],
   "source": []
  }
 ],
 "metadata": {
  "kernelspec": {
   "display_name": "Python [conda env:base] *",
   "language": "python",
   "name": "conda-base-py"
  },
  "language_info": {
   "codemirror_mode": {
    "name": "ipython",
    "version": 3
   },
   "file_extension": ".py",
   "mimetype": "text/x-python",
   "name": "python",
   "nbconvert_exporter": "python",
   "pygments_lexer": "ipython3",
   "version": "3.12.3"
  }
 },
 "nbformat": 4,
 "nbformat_minor": 5
}
